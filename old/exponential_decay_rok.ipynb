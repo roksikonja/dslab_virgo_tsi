{
 "cells": [
  {
   "cell_type": "code",
   "execution_count": 15,
   "metadata": {},
   "outputs": [],
   "source": [
    "import os\n",
    "import numpy as np\n",
    "import matplotlib.pyplot as plt\n",
    "import pandas as pd\n",
    "from scipy.optimize import curve_fit\n",
    "\n",
    "from sklearn.linear_model import LinearRegression\n",
    "from data_utils import load_data, mission_day_to_year\n",
    "from modeling import compute_exposure"
   ]
  },
  {
   "cell_type": "code",
   "execution_count": 11,
   "metadata": {},
   "outputs": [],
   "source": [
    "data_dir = \"./data\"\n",
    "virgo_file = \"VIRGO_Level1.txt\"\n",
    "results_dir = os.path.join(data_dir, \"analysis\")\n",
    "\n",
    "data = load_data(os.path.join(data_dir, virgo_file))\n",
    "\n",
    "t = data[\"timestamp\"]  # Time in mission days\n",
    "pmo_a = data[\"pmo6v_a\"]\n",
    "pmo_b = data[\"pmo6v_b\"]\n",
    "temp = data[\"temperature\"]"
   ]
  },
  {
   "cell_type": "code",
   "execution_count": 13,
   "metadata": {},
   "outputs": [
    {
     "ename": "TypeError",
     "evalue": "compute_exposure() takes from 1 to 3 positional arguments but 4 were given",
     "output_type": "error",
     "traceback": [
      "\u001b[1;31m---------------------------------------------------------------------------\u001b[0m",
      "\u001b[1;31mTypeError\u001b[0m                                 Traceback (most recent call last)",
      "\u001b[1;32m<ipython-input-13-8ddaa98c2bd7>\u001b[0m in \u001b[0;36m<module>\u001b[1;34m\u001b[0m\n\u001b[0;32m      2\u001b[0m \u001b[1;31m# data[\"exposure_a\"] = compute_exposure(t, pmo_a)\u001b[0m\u001b[1;33m\u001b[0m\u001b[1;33m\u001b[0m\u001b[1;33m\u001b[0m\u001b[0m\n\u001b[0;32m      3\u001b[0m \u001b[1;31m# data[\"exposure_b\"] = compute_exposure(t, pmo_b)\u001b[0m\u001b[1;33m\u001b[0m\u001b[1;33m\u001b[0m\u001b[1;33m\u001b[0m\u001b[0m\n\u001b[1;32m----> 4\u001b[1;33m \u001b[0mdata\u001b[0m\u001b[1;33m[\u001b[0m\u001b[1;34m\"exposure_a\"\u001b[0m\u001b[1;33m]\u001b[0m \u001b[1;33m=\u001b[0m \u001b[0mcompute_exposure\u001b[0m\u001b[1;33m(\u001b[0m\u001b[0mt\u001b[0m\u001b[1;33m,\u001b[0m \u001b[0mpmo_a\u001b[0m\u001b[1;33m,\u001b[0m \u001b[1;34m\"exposure_sum\"\u001b[0m\u001b[1;33m,\u001b[0m \u001b[0mmean_b\u001b[0m\u001b[1;33m)\u001b[0m\u001b[1;33m\u001b[0m\u001b[1;33m\u001b[0m\u001b[0m\n\u001b[0m\u001b[0;32m      5\u001b[0m \u001b[0mdata\u001b[0m\u001b[1;33m[\u001b[0m\u001b[1;34m\"exposure_b\"\u001b[0m\u001b[1;33m]\u001b[0m \u001b[1;33m=\u001b[0m \u001b[0mcompute_exposure\u001b[0m\u001b[1;33m(\u001b[0m\u001b[0mt\u001b[0m\u001b[1;33m,\u001b[0m \u001b[0mpmo_b\u001b[0m\u001b[1;33m,\u001b[0m \u001b[1;34m\"exposure_sum\"\u001b[0m\u001b[1;33m,\u001b[0m \u001b[0mmean_b\u001b[0m\u001b[1;33m)\u001b[0m\u001b[1;33m\u001b[0m\u001b[1;33m\u001b[0m\u001b[0m\n\u001b[0;32m      6\u001b[0m \u001b[1;33m\u001b[0m\u001b[0m\n",
      "\u001b[1;31mTypeError\u001b[0m: compute_exposure() takes from 1 to 3 positional arguments but 4 were given"
     ]
    }
   ],
   "source": [
    "mean_b = pmo_b.mean()\n",
    "# data[\"exposure_a\"] = compute_exposure(t, pmo_a)\n",
    "# data[\"exposure_b\"] = compute_exposure(t, pmo_b)\n",
    "data[\"exposure_a\"] = compute_exposure(t, pmo_a, \"exposure_sum\", mean_b)\n",
    "data[\"exposure_b\"] = compute_exposure(t, pmo_b, \"exposure_sum\", mean_b)\n",
    "\n",
    "data_nn = data[[\"timestamp\", \"pmo6v_a\", \"pmo6v_b\", \"exposure_a\", \"exposure_b\"]].dropna()\n",
    "t_nn = data_nn[\"timestamp\"].values\n",
    "e_a_nn = data_nn[\"exposure_a\"].values\n",
    "e_b_nn = data_nn[\"exposure_b\"].values\n",
    "x_a_nn = data_nn[\"pmo6v_a\"].values\n",
    "x_b_nn = data_nn[\"pmo6v_b\"].values\n",
    "\n",
    "ratio_a_b = x_a_nn/x_b_nn\n",
    "\n",
    "plt.figure(1, figsize=(16, 8))\n",
    "plt.plot(t_nn, ratio_a_b)\n",
    "plt.savefig(os.path.join(results_dir, \"ratio_a_b_raw.pdf\"), bbox_inches=\"tight\", quality=100, dpi=200)\n",
    "plt.show()\n",
    "\n",
    "print(\"min ratio_a_b\", ratio_a_b.min())\n",
    "\n",
    "# data.sample(15, random_state=2)"
   ]
  },
  {
   "cell_type": "code",
   "execution_count": null,
   "metadata": {},
   "outputs": [],
   "source": [
    "epsilon = 1e-5\n",
    "gamma = ratio_a_b.min()\n",
    "\n",
    "Y = np.log(ratio_a_b - gamma + epsilon)\n",
    "X = e_a_nn.reshape(-1, 1)\n",
    "\n",
    "regressor = LinearRegression(fit_intercept=True)\n",
    "regressor.fit(X, Y)\n",
    "\n",
    "a = regressor.coef_[0]\n",
    "b = regressor.intercept_\n",
    "\n",
    "lambda_ = -a\n",
    "t_0 = b / lambda_\n",
    "\n",
    "ratio_a_b_pred = gamma + np.exp(-lambda_ * (e_a_nn - t_0))\n",
    "\n",
    "\n",
    "def exponential_linear_model(x, gamma, lambda_, t_0, linear):\n",
    "    return np.exp(-lambda_ * (x - t_0)) + gamma + linear * x\n",
    "\n",
    "def exponential_model(x, gamma, lambda_, t_0):\n",
    "    return np.exp(-lambda_ * (x - t_0)) + gamma\n",
    "\n",
    "popt, pcov = curve_fit(exponential_model,  e_a_nn,  ratio_a_b, p0=(gamma, lambda_, t_0))\n",
    "popt_lin, pcov = curve_fit(exponential_linear_model,  e_a_nn,  ratio_a_b, p0=(gamma, lambda_, t_0, 0))\n",
    "\n",
    "\n",
    "plt.figure(2, figsize=(16, 8))\n",
    "# plt.plot(t_nn, ratio_a_b, t_nn, ratio_a_b_pred, t_nn, exponential_model(e_a_nn, *popt))\n",
    "plt.plot(t_nn, ratio_a_b_pred, t_nn, exponential_model(e_a_nn, *popt), \n",
    "         t_nn, exponential_linear_model(e_a_nn, *popt_lin))\n",
    "plt.show()"
   ]
  },
  {
   "cell_type": "code",
   "execution_count": null,
   "metadata": {},
   "outputs": [],
   "source": [
    "x_a_nn_c = x_a_nn / exponential_model(e_a_nn, *popt)\n",
    "x_a_nn_c_lin = x_a_nn / exponential_linear_model(e_a_nn, *popt_lin)\n",
    "\n",
    "x_b_nn_c = x_b_nn / exponential_model(e_b_nn, *popt)\n",
    "x_b_nn_c_lin = x_b_nn / exponential_linear_model(e_b_nn, *popt_lin)\n",
    "\n",
    "\n",
    "plt.figure(3, figsize=(16, 24))\n",
    "plt.subplot(4, 1, 1)\n",
    "plt.plot(t_nn, x_a_nn, t_nn, x_b_nn, t_nn, x_a_nn_c, t_nn, x_a_nn_c_lin)\n",
    "plt.subplot(4, 1, 2)\n",
    "plt.plot(t_nn, x_b_nn, t_nn, x_a_nn_c)\n",
    "plt.subplot(4, 1, 3)\n",
    "plt.plot(t_nn, x_b_nn, t_nn, x_a_nn_c_lin)\n",
    "plt.subplot(4, 1, 4)\n",
    "plt.plot(t_nn, x_b_nn, t_nn, x_a_nn_c_lin, t_nn, x_b_nn_c_lin)\n",
    "plt.legend([\"pmo_b\", \"pmo_a_c_lin\", \"pmo_b_c_lin\"])\n",
    "plt.show()"
   ]
  },
  {
   "cell_type": "code",
   "execution_count": 9,
   "metadata": {},
   "outputs": [
    {
     "ename": "NameError",
     "evalue": "name 'ratio_a_b' is not defined",
     "output_type": "error",
     "traceback": [
      "\u001b[1;31m---------------------------------------------------------------------------\u001b[0m",
      "\u001b[1;31mNameError\u001b[0m                                 Traceback (most recent call last)",
      "\u001b[1;32m<ipython-input-9-601ccbe7f5e5>\u001b[0m in \u001b[0;36m<module>\u001b[1;34m\u001b[0m\n\u001b[0;32m      1\u001b[0m \u001b[0mN\u001b[0m \u001b[1;33m=\u001b[0m \u001b[1;36m15\u001b[0m\u001b[1;33m\u001b[0m\u001b[1;33m\u001b[0m\u001b[0m\n\u001b[1;32m----> 2\u001b[1;33m \u001b[0mratio\u001b[0m \u001b[1;33m=\u001b[0m \u001b[0mratio_a_b\u001b[0m\u001b[1;33m\u001b[0m\u001b[1;33m\u001b[0m\u001b[0m\n\u001b[0m\u001b[0;32m      3\u001b[0m \u001b[0mx_b_nn_c_lin\u001b[0m \u001b[1;33m=\u001b[0m \u001b[0mx_b_nn\u001b[0m\u001b[1;33m\u001b[0m\u001b[1;33m\u001b[0m\u001b[0m\n\u001b[0;32m      4\u001b[0m \u001b[1;33m\u001b[0m\u001b[0m\n\u001b[0;32m      5\u001b[0m \u001b[0mpopt\u001b[0m \u001b[1;33m=\u001b[0m \u001b[0mnp\u001b[0m\u001b[1;33m.\u001b[0m\u001b[0mzeros\u001b[0m\u001b[1;33m(\u001b[0m\u001b[0mshape\u001b[0m\u001b[1;33m=\u001b[0m\u001b[1;33m(\u001b[0m\u001b[1;36m3\u001b[0m\u001b[1;33m,\u001b[0m\u001b[1;33m)\u001b[0m\u001b[1;33m)\u001b[0m\u001b[1;33m\u001b[0m\u001b[1;33m\u001b[0m\u001b[0m\n",
      "\u001b[1;31mNameError\u001b[0m: name 'ratio_a_b' is not defined"
     ]
    }
   ],
   "source": [
    "\n",
    "N = 15\n",
    "ratio = ratio_a_b\n",
    "x_b_nn_c_lin = x_b_nn\n",
    "\n",
    "popt = np.zeros(shape=(3,))\n",
    "for i in range(1, N+1):\n",
    "    ratio = x_a_nn / x_b_nn_c_lin\n",
    "    \n",
    "    popt_lin, _ = curve_fit(exponential_linear_model,  e_a_nn,  ratio, p0=(lambda_, t_0, 0))\n",
    "    x_a_nn_c_lin = x_a_nn / exponential_linear_model(e_a_nn, *popt_lin)\n",
    "    x_b_nn_c_lin = x_b_nn / exponential_linear_model(e_b_nn, *popt_lin)\n",
    "\n",
    "\n",
    "#     popt_lin, _ = curve_fit(exponential_model,  e_a_nn,  ratio, p0=(lambda_, t_0))\n",
    "#     x_a_nn_c_lin = x_a_nn / exponential_model(e_a_nn, *popt_lin)\n",
    "#     x_b_nn_c_lin = x_b_nn / exponential_model(e_b_nn, *popt_lin)\n",
    "\n",
    "    print(\"norm change\", np.linalg.norm(popt - popt_lin))\n",
    "    popt = popt_lin\n",
    "    \n",
    "#     plt.figure(4, figsize=(16, N * 4))\n",
    "#     plt.subplot(N, 2, 2*(i-1)+1)\n",
    "#     plt.plot(t_nn, x_b_nn, t_nn, x_a_nn_c_lin, t_nn, x_b_nn_c_lin)\n",
    "#     plt.legend([\"pmo_b\", \"pmo_a_c_lin\", \"pmo_b_c_lin\"])\n",
    "#     plt.subplot(N, 2, 2*(i-1)+2)\n",
    "#     plt.plot(t_nn, ratio_a_b, t_nn, ratio)\n",
    "#     plt.legend([\"ratio_a_b\", \"ratio\"])\n",
    "    \n",
    "#     plt.figure(4, figsize=(16, N * 8))\n",
    "#     plt.subplot(2*N, 1, 2*(i-1)+1)\n",
    "#     plt.plot(t_nn, x_b_nn, t_nn, x_a_nn_c_lin, t_nn, x_b_nn_c_lin)\n",
    "#     plt.legend([\"pmo_b\", \"pmo_a_c_lin\", \"pmo_b_c_lin\"])\n",
    "#     plt.subplot(2*N, 1, 2*(i-1)+2)\n",
    "#     plt.plot(t_nn, ratio_a_b, t_nn, ratio, t_nn, exponential_linear_model(e_a_nn, *popt))\n",
    "#     plt.legend([\"ratio_a_b\", \"ratio\"])\n",
    "\n",
    "plt.show()\n"
   ]
  },
  {
   "cell_type": "code",
   "execution_count": 20,
   "metadata": {},
   "outputs": [
    {
     "data": {
      "text/plain": [
       "array([1996.13148802, 1996.13149185, 1996.13149377, 1996.13149952,\n",
       "       1996.13150308, 1996.131505  , 1996.13151075, 1996.13151458,\n",
       "       1996.1315165 , 1996.13152225, 1996.13152608, 1996.13152799,\n",
       "       1996.13153374, 1996.1315373 , 1996.13153922, 1996.13154497,\n",
       "       1996.1315488 , 1996.13155072, 1996.13155647, 1996.1315603 ,\n",
       "       1996.13156222, 1996.13156797, 1996.13157153, 1996.13157344,\n",
       "       1996.13157919, 1996.13158303, 1996.13158494, 1996.13159069,\n",
       "       1996.13159452, 1996.13159644, 1996.13160219, 1996.13160575,\n",
       "       1996.13160767, 1996.13161342, 1996.13161725, 1996.13161916,\n",
       "       1996.13162491, 1996.13162875, 1996.13163066, 1996.13163641,\n",
       "       1996.13163997, 1996.13164189, 1996.13164764, 1996.13165147,\n",
       "       1996.13165339, 1996.13165914, 1996.13166297, 1996.13166489,\n",
       "       1996.13167064, 1996.1316742 , 1996.13167611, 1996.13168186,\n",
       "       1996.13168569, 1996.13168761, 1996.13169336, 1996.13169719,\n",
       "       1996.13169911, 1996.13170486, 1996.13170842, 1996.13171034,\n",
       "       1996.13171608, 1996.13171992, 1996.13172183, 1996.13172758,\n",
       "       1996.13173142, 1996.13173333, 1996.13173908, 1996.13174264,\n",
       "       1996.13174456, 1996.13175031, 1996.13175414, 1996.13175606,\n",
       "       1996.13176181, 1996.13176564, 1996.13176756, 1996.13177331,\n",
       "       1996.13177687, 1996.13177878, 1996.13178453, 1996.13178836,\n",
       "       1996.13179028, 1996.13179603, 1996.13179986, 1996.13180178,\n",
       "       1996.13180753, 1996.13181109, 1996.131813  , 1996.13181875,\n",
       "       1996.13182259, 1996.1318245 , 1996.13183025, 1996.13183409,\n",
       "       1996.131836  , 1996.13184175, 1996.13184531, 1996.13184723,\n",
       "       1996.13185298, 1996.13185681, 1996.13185873, 1996.13186448])"
      ]
     },
     "execution_count": 20,
     "metadata": {},
     "output_type": "execute_result"
    }
   ],
   "source": [
    "np.array(list(map(mission_day_to_year, t[:100])))"
   ]
  },
  {
   "cell_type": "code",
   "execution_count": null,
   "metadata": {},
   "outputs": [],
   "source": []
  }
 ],
 "metadata": {
  "kernelspec": {
   "display_name": "Python 3",
   "language": "python",
   "name": "python3"
  },
  "language_info": {
   "codemirror_mode": {
    "name": "ipython",
    "version": 3
   },
   "file_extension": ".py",
   "mimetype": "text/x-python",
   "name": "python",
   "nbconvert_exporter": "python",
   "pygments_lexer": "ipython3",
   "version": "3.7.4"
  }
 },
 "nbformat": 4,
 "nbformat_minor": 2
}
