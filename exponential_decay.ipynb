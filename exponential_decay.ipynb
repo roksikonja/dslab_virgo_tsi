{
 "cells": [
  {
   "cell_type": "code",
   "execution_count": 1,
   "metadata": {},
   "outputs": [],
   "source": [
    "from data_utils import load_data, notnan_indices, downsample_signal\n",
    "from constants import Constants as C\n",
    "\n",
    "import time\n",
    "import os\n",
    "import numpy as np\n",
    "import matplotlib.pyplot as plt\n",
    "import pandas as pd\n",
    "from scipy.optimize import curve_fit\n",
    "from sklearn.linear_model import LinearRegression\n",
    "from sklearn.model_selection import GridSearchCV"
   ]
  },
  {
   "cell_type": "code",
   "execution_count": 2,
   "metadata": {
    "scrolled": true
   },
   "outputs": [
    {
     "data": {
      "text/html": [
       "<div>\n",
       "<style scoped>\n",
       "    .dataframe tbody tr th:only-of-type {\n",
       "        vertical-align: middle;\n",
       "    }\n",
       "\n",
       "    .dataframe tbody tr th {\n",
       "        vertical-align: top;\n",
       "    }\n",
       "\n",
       "    .dataframe thead th {\n",
       "        text-align: right;\n",
       "    }\n",
       "</style>\n",
       "<table border=\"1\" class=\"dataframe\">\n",
       "  <thead>\n",
       "    <tr style=\"text-align: right;\">\n",
       "      <th></th>\n",
       "      <th>TIME</th>\n",
       "      <th>PMO6V-A</th>\n",
       "      <th>PMO6V-B</th>\n",
       "      <th>TEMPERATURE</th>\n",
       "    </tr>\n",
       "  </thead>\n",
       "  <tbody>\n",
       "    <tr>\n",
       "      <td>916133</td>\n",
       "      <td>707.2037</td>\n",
       "      <td>1364.124</td>\n",
       "      <td>NaN</td>\n",
       "      <td>27.612</td>\n",
       "    </tr>\n",
       "    <tr>\n",
       "      <td>4540366</td>\n",
       "      <td>3224.0322</td>\n",
       "      <td>1360.755</td>\n",
       "      <td>NaN</td>\n",
       "      <td>29.833</td>\n",
       "    </tr>\n",
       "    <tr>\n",
       "      <td>1184820</td>\n",
       "      <td>893.7919</td>\n",
       "      <td>1363.791</td>\n",
       "      <td>NaN</td>\n",
       "      <td>26.496</td>\n",
       "    </tr>\n",
       "    <tr>\n",
       "      <td>1652927</td>\n",
       "      <td>1218.8662</td>\n",
       "      <td>1363.623</td>\n",
       "      <td>NaN</td>\n",
       "      <td>26.422</td>\n",
       "    </tr>\n",
       "    <tr>\n",
       "      <td>6541184</td>\n",
       "      <td>4613.4893</td>\n",
       "      <td>NaN</td>\n",
       "      <td>NaN</td>\n",
       "      <td>29.463</td>\n",
       "    </tr>\n",
       "    <tr>\n",
       "      <td>6169960</td>\n",
       "      <td>4355.6948</td>\n",
       "      <td>1360.001</td>\n",
       "      <td>NaN</td>\n",
       "      <td>31.748</td>\n",
       "    </tr>\n",
       "    <tr>\n",
       "      <td>9447604</td>\n",
       "      <td>6631.8364</td>\n",
       "      <td>1359.868</td>\n",
       "      <td>NaN</td>\n",
       "      <td>29.349</td>\n",
       "    </tr>\n",
       "    <tr>\n",
       "      <td>10494042</td>\n",
       "      <td>7358.5293</td>\n",
       "      <td>1359.368</td>\n",
       "      <td>NaN</td>\n",
       "      <td>29.713</td>\n",
       "    </tr>\n",
       "    <tr>\n",
       "      <td>11214199</td>\n",
       "      <td>7858.6382</td>\n",
       "      <td>1358.931</td>\n",
       "      <td>NaN</td>\n",
       "      <td>27.109</td>\n",
       "    </tr>\n",
       "    <tr>\n",
       "      <td>7101944</td>\n",
       "      <td>5002.9058</td>\n",
       "      <td>1359.604</td>\n",
       "      <td>NaN</td>\n",
       "      <td>28.829</td>\n",
       "    </tr>\n",
       "    <tr>\n",
       "      <td>3056000</td>\n",
       "      <td>2193.2224</td>\n",
       "      <td>1361.454</td>\n",
       "      <td>NaN</td>\n",
       "      <td>28.405</td>\n",
       "    </tr>\n",
       "    <tr>\n",
       "      <td>4385684</td>\n",
       "      <td>3116.6140</td>\n",
       "      <td>1360.702</td>\n",
       "      <td>NaN</td>\n",
       "      <td>27.599</td>\n",
       "    </tr>\n",
       "    <tr>\n",
       "      <td>1143126</td>\n",
       "      <td>864.8377</td>\n",
       "      <td>1363.925</td>\n",
       "      <td>NaN</td>\n",
       "      <td>27.354</td>\n",
       "    </tr>\n",
       "    <tr>\n",
       "      <td>76999</td>\n",
       "      <td>124.4718</td>\n",
       "      <td>1365.335</td>\n",
       "      <td>NaN</td>\n",
       "      <td>24.058</td>\n",
       "    </tr>\n",
       "    <tr>\n",
       "      <td>176997</td>\n",
       "      <td>193.9148</td>\n",
       "      <td>NaN</td>\n",
       "      <td>1365.385</td>\n",
       "      <td>22.880</td>\n",
       "    </tr>\n",
       "  </tbody>\n",
       "</table>\n",
       "</div>"
      ],
      "text/plain": [
       "               TIME   PMO6V-A   PMO6V-B  TEMPERATURE\n",
       "916133     707.2037  1364.124       NaN       27.612\n",
       "4540366   3224.0322  1360.755       NaN       29.833\n",
       "1184820    893.7919  1363.791       NaN       26.496\n",
       "1652927   1218.8662  1363.623       NaN       26.422\n",
       "6541184   4613.4893       NaN       NaN       29.463\n",
       "6169960   4355.6948  1360.001       NaN       31.748\n",
       "9447604   6631.8364  1359.868       NaN       29.349\n",
       "10494042  7358.5293  1359.368       NaN       29.713\n",
       "11214199  7858.6382  1358.931       NaN       27.109\n",
       "7101944   5002.9058  1359.604       NaN       28.829\n",
       "3056000   2193.2224  1361.454       NaN       28.405\n",
       "4385684   3116.6140  1360.702       NaN       27.599\n",
       "1143126    864.8377  1363.925       NaN       27.354\n",
       "76999      124.4718  1365.335       NaN       24.058\n",
       "176997     193.9148       NaN  1365.385       22.880"
      ]
     },
     "execution_count": 2,
     "metadata": {},
     "output_type": "execute_result"
    }
   ],
   "source": [
    "data_dir = \"./data\"\n",
    "virgo_file = \"VIRGO_Level1.txt\"\n",
    "results_dir = os.path.join(data_dir, \"analysis\")\n",
    "\n",
    "data = load_data(os.path.join(data_dir, virgo_file))\n",
    "\n",
    "t = data[C.T]  # Time in mission days\n",
    "# t = data[\"timestamp\"].apply(mission_day_to_year)  # Uncomment for time measured in years\n",
    "pmo_a = data[C.A]\n",
    "pmo_b = data[C.B]\n",
    "temp = data[C.TEMP]\n",
    "data.sample(15, random_state=2)"
   ]
  },
  {
   "cell_type": "code",
   "execution_count": 3,
   "metadata": {},
   "outputs": [],
   "source": [
    "data_nn = data[[C.T, C.A, C.B]].dropna()\n",
    "t_nn = data_nn[C.T]\n",
    "x_a_nn = data_nn[C.A]\n",
    "x_b_nn = data_nn[C.B]\n",
    "ratio_a_b = x_a_nn/x_b_nn\n",
    "\n",
    "#plt.figure(5, figsize=(16, 8))\n",
    "#plt.plot(t_nn, ratio_a_b, t_nn, np.exp(a*t_nn+b))\n",
    "#plt.plot(t_nn, np.log(ratio_a_b-0.995), t_nn, a*t_nn+b)\n",
    "#plt.savefig(os.path.join(results_dir, \"ratio_a_b_raw.pdf\"), bbox_inches=\"tight\", quality=100, dpi=200)\n",
    "#plt.show()"
   ]
  },
  {
   "cell_type": "code",
   "execution_count": 61,
   "metadata": {},
   "outputs": [
    {
     "data": {
      "text/plain": [
       "(21524, 2)"
      ]
     },
     "execution_count": 61,
     "metadata": {},
     "output_type": "execute_result"
    }
   ],
   "source": [
    "data = np.stack((t_nn, ratio_a_b)).T\n",
    "data = data[::1]\n",
    "data.shape"
   ]
  },
  {
   "cell_type": "code",
   "execution_count": 62,
   "metadata": {},
   "outputs": [],
   "source": [
    "y= data[:,1]\n",
    "X = data[:,0].T.reshape(-1,1)"
   ]
  },
  {
   "cell_type": "code",
   "execution_count": 73,
   "metadata": {},
   "outputs": [
    {
     "ename": "ValueError",
     "evalue": "all input arrays must have the same shape",
     "output_type": "error",
     "traceback": [
      "\u001b[0;31m---------------------------------------------------------------------------\u001b[0m",
      "\u001b[0;31mValueError\u001b[0m                                Traceback (most recent call last)",
      "\u001b[0;32m<ipython-input-73-3401d616b327>\u001b[0m in \u001b[0;36m<module>\u001b[0;34m\u001b[0m\n\u001b[0;32m----> 1\u001b[0;31m \u001b[0mX_for_gp\u001b[0m \u001b[0;34m=\u001b[0m \u001b[0mnp\u001b[0m\u001b[0;34m.\u001b[0m\u001b[0mstack\u001b[0m\u001b[0;34m(\u001b[0m\u001b[0;34m(\u001b[0m\u001b[0mnp\u001b[0m\u001b[0;34m.\u001b[0m\u001b[0mzeros\u001b[0m\u001b[0;34m(\u001b[0m\u001b[0;34m(\u001b[0m\u001b[0;36m10\u001b[0m\u001b[0;34m,\u001b[0m \u001b[0;36m1\u001b[0m\u001b[0;34m)\u001b[0m\u001b[0;34m)\u001b[0m\u001b[0;34m,\u001b[0m \u001b[0mX\u001b[0m\u001b[0;34m)\u001b[0m\u001b[0;34m,\u001b[0m \u001b[0maxis\u001b[0m\u001b[0;34m=\u001b[0m\u001b[0;36m2\u001b[0m\u001b[0;34m)\u001b[0m\u001b[0;34m\u001b[0m\u001b[0;34m\u001b[0m\u001b[0m\n\u001b[0m",
      "\u001b[0;32m~/anaconda3/lib/python3.7/site-packages/numpy/core/shape_base.py\u001b[0m in \u001b[0;36mstack\u001b[0;34m(arrays, axis, out)\u001b[0m\n\u001b[1;32m    414\u001b[0m     \u001b[0mshapes\u001b[0m \u001b[0;34m=\u001b[0m \u001b[0;34m{\u001b[0m\u001b[0marr\u001b[0m\u001b[0;34m.\u001b[0m\u001b[0mshape\u001b[0m \u001b[0;32mfor\u001b[0m \u001b[0marr\u001b[0m \u001b[0;32min\u001b[0m \u001b[0marrays\u001b[0m\u001b[0;34m}\u001b[0m\u001b[0;34m\u001b[0m\u001b[0;34m\u001b[0m\u001b[0m\n\u001b[1;32m    415\u001b[0m     \u001b[0;32mif\u001b[0m \u001b[0mlen\u001b[0m\u001b[0;34m(\u001b[0m\u001b[0mshapes\u001b[0m\u001b[0;34m)\u001b[0m \u001b[0;34m!=\u001b[0m \u001b[0;36m1\u001b[0m\u001b[0;34m:\u001b[0m\u001b[0;34m\u001b[0m\u001b[0;34m\u001b[0m\u001b[0m\n\u001b[0;32m--> 416\u001b[0;31m         \u001b[0;32mraise\u001b[0m \u001b[0mValueError\u001b[0m\u001b[0;34m(\u001b[0m\u001b[0;34m'all input arrays must have the same shape'\u001b[0m\u001b[0;34m)\u001b[0m\u001b[0;34m\u001b[0m\u001b[0;34m\u001b[0m\u001b[0m\n\u001b[0m\u001b[1;32m    417\u001b[0m \u001b[0;34m\u001b[0m\u001b[0m\n\u001b[1;32m    418\u001b[0m     \u001b[0mresult_ndim\u001b[0m \u001b[0;34m=\u001b[0m \u001b[0marrays\u001b[0m\u001b[0;34m[\u001b[0m\u001b[0;36m0\u001b[0m\u001b[0;34m]\u001b[0m\u001b[0;34m.\u001b[0m\u001b[0mndim\u001b[0m \u001b[0;34m+\u001b[0m \u001b[0;36m1\u001b[0m\u001b[0;34m\u001b[0m\u001b[0;34m\u001b[0m\u001b[0m\n",
      "\u001b[0;31mValueError\u001b[0m: all input arrays must have the same shape"
     ]
    }
   ],
   "source": [
    "X_for_gp = np.stack((np.zeros((10, 1)), X), axis=2)"
   ]
  },
  {
   "cell_type": "code",
   "execution_count": 71,
   "metadata": {},
   "outputs": [
    {
     "data": {
      "text/plain": [
       "array([[0.],\n",
       "       [0.],\n",
       "       [0.],\n",
       "       [0.],\n",
       "       [0.],\n",
       "       [0.],\n",
       "       [0.],\n",
       "       [0.],\n",
       "       [0.],\n",
       "       [0.]])"
      ]
     },
     "execution_count": 71,
     "metadata": {},
     "output_type": "execute_result"
    }
   ],
   "source": [
    "np.zeros((10, 1))"
   ]
  },
  {
   "cell_type": "code",
   "execution_count": 35,
   "metadata": {},
   "outputs": [
    {
     "data": {
      "text/plain": [
       "[<matplotlib.lines.Line2D at 0x1a209b5390>]"
      ]
     },
     "execution_count": 35,
     "metadata": {},
     "output_type": "execute_result"
    },
    {
     "data": {
      "image/png": "[encoded data removed]",
      "text/plain": [
       "<Figure size 432x288 with 1 Axes>"
      ]
     },
     "metadata": {
      "needs_background": "light"
     },
     "output_type": "display_data"
    }
   ],
   "source": [
    "plt.plot(X, y)"
   ]
  },
  {
   "cell_type": "markdown",
   "metadata": {},
   "source": [
    "# SVR attempt"
   ]
  },
  {
   "cell_type": "code",
   "execution_count": 9,
   "metadata": {},
   "outputs": [],
   "source": [
    "from sklearn.svm import SVR\n",
    "\n",
    "cost_param = [10**i for i in range(-2,0)]\n",
    "epsilon_param = [10**i for i in range(-2, 0)]\n",
    "\n",
    "param_grid = [\n",
    "    {\n",
    "        'C' : cost_param,\n",
    "        'epsilon' : epsilon_param,\n",
    "    },\n",
    "]\n",
    "\n",
    "\n",
    "grid = GridSearchCV(SVR(kernel='rbf', \n",
    "                        gamma='scale'),\n",
    "                    cv=10, \n",
    "                    n_jobs=-1, \n",
    "                    param_grid=param_grid)"
   ]
  },
  {
   "cell_type": "code",
   "execution_count": 11,
   "metadata": {},
   "outputs": [
    {
     "name": "stdout",
     "output_type": "stream",
     "text": [
      "--- 3.1146769523620605 seconds ---\n"
     ]
    },
    {
     "name": "stderr",
     "output_type": "stream",
     "text": [
      "/anaconda3/lib/python3.6/site-packages/sklearn/model_selection/_search.py:841: DeprecationWarning: The default of the `iid` parameter will change from True to False in version 0.22 and will be removed in 0.24. This will change numeric results when test-set sizes are unequal.\n",
      "  DeprecationWarning)\n"
     ]
    }
   ],
   "source": [
    "start_time = time.time()\n",
    "grid.fit(X, y)\n",
    "print(\"--- %s seconds ---\" % (time.time() - start_time))"
   ]
  },
  {
   "cell_type": "code",
   "execution_count": 12,
   "metadata": {},
   "outputs": [
    {
     "data": {
      "text/plain": [
       "SVR(C=0.001, cache_size=200, coef0=0.0, degree=3, epsilon=1e-20, gamma='auto',\n",
       "  kernel='rbf', max_iter=-1, shrinking=True, tol=0.001, verbose=False)"
      ]
     },
     "execution_count": 12,
     "metadata": {},
     "output_type": "execute_result"
    }
   ],
   "source": [
    "clf = SVR(C=1e-3, gamma='auto', epsilon=1e-20, kernel='rbf')\n",
    "clf.fit(X, y)"
   ]
  },
  {
   "cell_type": "code",
   "execution_count": 13,
   "metadata": {},
   "outputs": [
    {
     "data": {
      "text/plain": [
       "{'C': 0.001,\n",
       " 'cache_size': 200,\n",
       " 'coef0': 0.0,\n",
       " 'degree': 3,\n",
       " 'epsilon': 1e-20,\n",
       " 'gamma': 'auto',\n",
       " 'kernel': 'rbf',\n",
       " 'max_iter': -1,\n",
       " 'shrinking': True,\n",
       " 'tol': 0.001,\n",
       " 'verbose': False}"
      ]
     },
     "execution_count": 13,
     "metadata": {},
     "output_type": "execute_result"
    }
   ],
   "source": [
    "clf.get_params()"
   ]
  },
  {
   "cell_type": "code",
   "execution_count": 154,
   "metadata": {},
   "outputs": [
    {
     "data": {
      "text/plain": [
       "[<matplotlib.lines.Line2D at 0x1a1e76ed68>,\n",
       " <matplotlib.lines.Line2D at 0x1a1e7e4ac8>]"
      ]
     },
     "execution_count": 154,
     "metadata": {},
     "output_type": "execute_result"
    },
    {
     "data": {
      "image/png": "[encoded data removed]",
      "text/plain": [
       "<Figure size 1152x576 with 1 Axes>"
      ]
     },
     "metadata": {
      "needs_background": "light"
     },
     "output_type": "display_data"
    }
   ],
   "source": [
    "plt.figure(5, figsize=(16, 8))\n",
    "plt.plot(X, y, X, grid.predict(X.reshape(-1,1)))"
   ]
  },
  {
   "cell_type": "markdown",
   "metadata": {},
   "source": [
    "# Gaussian processes"
   ]
  },
  {
   "cell_type": "code",
   "execution_count": 11,
   "metadata": {},
   "outputs": [],
   "source": [
    "from sklearn.gaussian_process import GaussianProcessRegressor\n",
    "from sklearn.gaussian_process.kernels import DotProduct, WhiteKernel, RBF, Matern, RationalQuadratic, ExpSineSquared"
   ]
  },
  {
   "cell_type": "code",
   "execution_count": 12,
   "metadata": {},
   "outputs": [],
   "source": [
    "kernel = 10*(WhiteKernel() * RBF() + RationalQuadratic() + ExpSineSquared())"
   ]
  },
  {
   "cell_type": "code",
   "execution_count": 13,
   "metadata": {},
   "outputs": [],
   "source": [
    "gpr = GaussianProcessRegressor(kernel=kernel, random_state=0).fit(X, y)"
   ]
  },
  {
   "cell_type": "code",
   "execution_count": 15,
   "metadata": {},
   "outputs": [
    {
     "data": {
      "text/plain": [
       "[<matplotlib.lines.Line2D at 0x1a1caad978>]"
      ]
     },
     "execution_count": 15,
     "metadata": {},
     "output_type": "execute_result"
    },
    {
     "data": {
      "image/png": "[encoded data removed]",
      "text/plain": [
       "<Figure size 1152x576 with 1 Axes>"
      ]
     },
     "metadata": {
      "needs_background": "light"
     },
     "output_type": "display_data"
    }
   ],
   "source": [
    "plt.figure(5, figsize=(16, 8))\n",
    "plt.plot(X, gpr.predict(X))"
   ]
  },
  {
   "cell_type": "code",
   "execution_count": 16,
   "metadata": {},
   "outputs": [
    {
     "data": {
      "text/plain": [
       "<matplotlib.legend.Legend at 0x1a1b882278>"
      ]
     },
     "execution_count": 16,
     "metadata": {},
     "output_type": "execute_result"
    },
    {
     "data": {
      "image/png": "[encoded data removed]",
      "text/plain": [
       "<Figure size 1152x576 with 1 Axes>"
      ]
     },
     "metadata": {
      "needs_background": "light"
     },
     "output_type": "display_data"
    }
   ],
   "source": [
    "y_pred, sigma = gpr.predict(X, return_std=True)\n",
    "\n",
    "# Plot the function, the prediction and the 95% confidence interval based on\n",
    "# the MSE\n",
    "plt.figure(5, figsize=(16, 8))\n",
    "plt.plot(X, y, 'r.', markersize=10, label='Observations')\n",
    "plt.plot(X, y_pred, 'b-', label='Prediction')\n",
    "plt.fill(np.concatenate([X, X[::-1]]),\n",
    "         np.concatenate([y_pred - 1.9600 * sigma,\n",
    "                        (y_pred + 1.9600 * sigma)[::-1]]),\n",
    "         alpha=.5, fc='b', ec='None', label='95% confidence interval')\n",
    "plt.xlabel('$x$')\n",
    "plt.ylabel('$f(x)$')\n",
    "# plt.ylim(0.995, 1)\n",
    "#plt.xlim(2000, 4000)\n",
    "plt.legend(loc='upper right')"
   ]
  },
  {
   "cell_type": "markdown",
   "metadata": {},
   "source": [
    "# Decreasing, Convex Splines through point (0,1)"
   ]
  },
  {
   "cell_type": "code",
   "execution_count": 6,
   "metadata": {},
   "outputs": [],
   "source": [
    "import numpy as np\n",
    "from sklearn.metrics import mean_squared_error, make_scorer\n",
    "\n",
    "from scipy.interpolate import UnivariateSpline, splev, splrep\n",
    "from scipy.optimize import minimize\n",
    "import warnings"
   ]
  },
  {
   "cell_type": "code",
   "execution_count": 75,
   "metadata": {},
   "outputs": [],
   "source": [
    "class DegradationSpline():\n",
    "    def __init__(self, k=3, s_params=(-14,0), steps=30):\n",
    "        self.k = k\n",
    "        self.s_params = self._s_param_generator(*s_params)\n",
    "        self.steps = steps\n",
    "\n",
    "    def _s_param_generator(self, start, finish):\n",
    "        for i in range(start, finish):\n",
    "            for j in range(1, 10):\n",
    "                yield j * 10 ** i\n",
    "\n",
    "    def _guess(self, x, y, k, s, w=None):\n",
    "        \"\"\"Do an ordinary spline fit to provide knots\"\"\"\n",
    "        return splrep(x, y, w, k=k, s=s)\n",
    "\n",
    "    def _err(self, c, x, y, t, k, w=None):\n",
    "        \"\"\"The error function to minimize\"\"\"\n",
    "        diff = y - splev(x, (t, c, k))\n",
    "        if w is None:\n",
    "            diff = np.einsum('...i,...i', diff, diff)\n",
    "        else:\n",
    "            diff = np.dot(diff * diff, w)\n",
    "        return np.abs(diff)\n",
    "\n",
    "    def _spline_dirichlet(self, x, y, k=3, s=0, w=None):\n",
    "        t, c0, k = self._guess(x, y, k, s, w=w)\n",
    "        x0 = x[0]  # point at which 1 is required\n",
    "        xl = x[-1]\n",
    "        con = {'type': 'eq',\n",
    "               'fun': lambda c: splev(x0, (t, c, k), der=0) - 1,\n",
    "               }\n",
    "        opt = minimize(self._err, c0, (x, y, t, k, w), constraints=con)\n",
    "        copt = opt.x\n",
    "        return UnivariateSpline._from_tck((t, copt, k))\n",
    "\n",
    "    def _is_decreasing(self, spline, x):\n",
    "        spline_derivative = spline.derivative()\n",
    "        return np.all(spline_derivative(x.ravel()) < 0)\n",
    "\n",
    "    def _is_convex(self, spline, x):\n",
    "        spline_derivative_2 = spline.derivative().derivative()\n",
    "        return np.all(spline_derivative_2(x.ravel()) > 0)\n",
    "\n",
    "    def _find_convex_decreasing_spline(self, x, y):\n",
    "        for s in self.s_params:\n",
    "            spline = self._spline_dirichlet(x.ravel(), y.ravel(), k=self.k, s=s)\n",
    "            if self._is_decreasing(spline, x) and self._is_convex(spline, x):\n",
    "                return spline\n",
    "        raise Exception(\n",
    "            'Could not find increasng and convex spline for this set of sensitivity parameters and fitting data x, y')\n",
    "\n",
    "    def _find_convex_decreasing_spline_binary_seach(self, x, y):\n",
    "        \"\"\"\n",
    "        for start it should be weird\n",
    "        for end it should be decreasing\n",
    "        \"\"\"\n",
    "        start = 0\n",
    "        end = 1\n",
    "        mid = (end - start) / 2\n",
    "        spline = self._spline_dirichlet(x.ravel(), y.ravel(), k=self.k, s=mid)\n",
    "        step = 1\n",
    "        while step <= self.steps:\n",
    "            if self._is_decreasing(spline, x):\n",
    "                end = mid\n",
    "                mid = (end - start) / 2\n",
    "                spline = self._spline_dirichlet(x.ravel(), y.ravel(), k=self.k, s=mid)\n",
    "            else:\n",
    "                start = mid\n",
    "                mid = (end - start) / 2\n",
    "                spline = self._spline_dirichlet(x.ravel(), y.ravel(), k=self.k, s=mid)\n",
    "            step += 1\n",
    "        spline = self._spline_dirichlet(x.ravel(), y.ravel(), k=self.k, s=end)\n",
    "        if not self._is_convex(spline, x):\n",
    "            warnings.warn(\"Spline is decrasing but not convex.\")\n",
    "        return spline\n",
    "    \n",
    "    def test(self, x, y, s):\n",
    "        spline = self._spline_dirichlet(x.ravel(), y.ravel(), k=self.k, s=s)\n",
    "        print(self._is_decreasing(spline, x))\n",
    "        print(self._is_convex(spline, x))\n",
    "        return spline(x)\n",
    "                \n",
    "    def fit(self, x, y):\n",
    "        self.sp = self._find_convex_decreasing_spline_binary_seach(x, y)\n",
    "\n",
    "    def predict(self, x):\n",
    "        return self.sp(x)\n",
    "\n",
    "    \n",
    "class SplineWithInitialOne: \n",
    "    def __init__(self, k=3, s=1e-3):\n",
    "        self.k = k\n",
    "        self.s = s\n",
    "        \n",
    "    def fit(self, x, y):\n",
    "        self.sp = spline_dirichlet(x.ravel(), y, self.k, self.s)\n",
    "        return self.sp\n",
    "    \n",
    "    def predict(self, x):\n",
    "        return self.sp(x)\n",
    "    \n",
    "    def get_params(self, deep=True):\n",
    "        return {'k' : self.k,\n",
    "                's' : self.s}\n",
    "    def set_params(self, **parameters):\n",
    "        for parameter, value in parameters.items():\n",
    "            setattr(self, parameter, value)\n",
    "        return self\n",
    "    \n",
    "class ThinningFolds:\n",
    "    \n",
    "    def __init__(self, t=0.1):\n",
    "        self.t = t\n",
    "    \n",
    "    def split(self, x, *params):\n",
    "        l = len(x)\n",
    "        n = int(1/self.t)\n",
    "        for i in range(n):\n",
    "            train = np.arange(i, l, n)\n",
    "            test = np.array([j for j in range(l) if j % n != i])\n",
    "            yield (train, test)\n",
    "    \n",
    "    def get_n_splits(self, x, *params):\n",
    "        n = int(1/self.t)\n",
    "        return n"
   ]
  },
  {
   "cell_type": "code",
   "execution_count": 63,
   "metadata": {},
   "outputs": [],
   "source": [
    "model = DegradationSpline(s_params=(-15,0))"
   ]
  },
  {
   "cell_type": "code",
   "execution_count": 64,
   "metadata": {},
   "outputs": [
    {
     "name": "stdout",
     "output_type": "stream",
     "text": [
      "1 0.5\n",
      "is decreasing\n",
      "2 0.25\n",
      "is decreasing\n",
      "3 0.125\n",
      "is decreasing\n",
      "4 0.0625\n",
      "is decreasing\n",
      "5 0.03125\n",
      "is decreasing\n",
      "6 0.015625\n",
      "is decreasing\n",
      "7 0.0078125\n",
      "is decreasing\n",
      "8 0.00390625\n",
      "is decreasing\n",
      "9 0.001953125\n",
      "is decreasing\n",
      "10 0.0009765625\n",
      "is decreasing\n",
      "11 0.00048828125\n",
      "is decreasing\n",
      "12 0.000244140625\n",
      "is decreasing\n",
      "13 0.0001220703125\n",
      "is weird\n",
      "14 6.103515625e-05\n",
      "is weird\n",
      "15 9.1552734375e-05\n",
      "is weird\n",
      "16 7.62939453125e-05\n",
      "is weird\n",
      "17 8.392333984375e-05\n",
      "is weird\n",
      "18 8.0108642578125e-05\n",
      "is weird\n",
      "19 8.20159912109375e-05\n",
      "is weird\n",
      "20 8.106231689453125e-05\n",
      "is weird\n",
      "21 8.153915405273438e-05\n",
      "is weird\n",
      "22 8.130073547363281e-05\n",
      "is weird\n",
      "23 8.14199447631836e-05\n",
      "is weird\n",
      "24 8.13603401184082e-05\n",
      "is weird\n",
      "25 8.13901424407959e-05\n",
      "is weird\n",
      "26 8.137524127960205e-05\n",
      "is weird\n",
      "27 8.138269186019897e-05\n",
      "is weird\n",
      "28 8.137896656990051e-05\n",
      "is weird\n",
      "29 8.138082921504974e-05\n",
      "is weird\n",
      "30 8.137989789247513e-05\n",
      "is weird\n",
      "31 8.138036355376244e-05\n",
      "is weird\n",
      "32 8.138013072311878e-05\n",
      "is weird\n",
      "33 8.138024713844061e-05\n",
      "is weird\n",
      "34 8.13801889307797e-05\n",
      "is weird\n",
      "35 8.138021803461015e-05\n",
      "is weird\n",
      "36 8.138020348269492e-05\n",
      "is weird\n",
      "37 8.138021075865254e-05\n",
      "is weird\n",
      "38 8.138020712067373e-05\n",
      "is weird\n",
      "39 8.138020893966313e-05\n",
      "is weird\n",
      "40 8.138020803016843e-05\n",
      "is weird\n",
      "41 8.138020848491578e-05\n",
      "is weird\n",
      "42 8.138020825754211e-05\n",
      "is weird\n",
      "43 8.138020837122895e-05\n",
      "is weird\n",
      "44 8.138020831438553e-05\n",
      "is weird\n",
      "45 8.138020834280724e-05\n",
      "is weird\n",
      "46 8.138020832859638e-05\n",
      "is weird\n",
      "47 8.138020833570181e-05\n",
      "is weird\n",
      "48 8.13802083321491e-05\n",
      "is weird\n",
      "49 8.138020833392545e-05\n",
      "is weird\n",
      "50 8.138020833303727e-05\n",
      "is weird\n"
     ]
    }
   ],
   "source": [
    "model.fit(X, y)"
   ]
  },
  {
   "cell_type": "code",
   "execution_count": 78,
   "metadata": {},
   "outputs": [
    {
     "data": {
      "text/plain": [
       "[<matplotlib.lines.Line2D at 0x1a1e8e2f28>,\n",
       " <matplotlib.lines.Line2D at 0x1a208e70b8>]"
      ]
     },
     "execution_count": 78,
     "metadata": {},
     "output_type": "execute_result"
    },
    {
     "data": {
      "image/png": "[encoded data removed]",
      "text/plain": [
       "<Figure size 1152x576 with 1 Axes>"
      ]
     },
     "metadata": {
      "needs_background": "light"
     },
     "output_type": "display_data"
    }
   ],
   "source": [
    "plt.figure(5, figsize=(16, 8))\n",
    "plt.plot(X.ravel(), model.predict(X.ravel()), X.ravel(), model1.predict(X.ravel()))"
   ]
  },
  {
   "cell_type": "code",
   "execution_count": 76,
   "metadata": {},
   "outputs": [],
   "source": [
    "model1 = DegradationSpline(s_params=(-15,0))"
   ]
  },
  {
   "cell_type": "code",
   "execution_count": 77,
   "metadata": {},
   "outputs": [
    {
     "name": "stdout",
     "output_type": "stream",
     "text": [
      "1 0.5\n",
      "is decreasing\n",
      "2 0.25\n",
      "is decreasing\n",
      "3 0.125\n",
      "is decreasing\n",
      "4 0.0625\n",
      "is decreasing\n",
      "5 0.03125\n",
      "is decreasing\n",
      "6 0.015625\n",
      "is decreasing\n",
      "7 0.0078125\n",
      "is decreasing\n",
      "8 0.00390625\n",
      "is decreasing\n",
      "9 0.001953125\n",
      "is decreasing\n",
      "10 0.0009765625\n",
      "is decreasing\n",
      "11 0.00048828125\n",
      "is decreasing\n",
      "12 0.000244140625\n",
      "is decreasing\n",
      "13 0.0001220703125\n",
      "is decreasing\n",
      "14 6.103515625e-05\n",
      "is decreasing\n",
      "15 3.0517578125e-05\n",
      "is weird\n",
      "16 1.52587890625e-05\n",
      "is weird\n",
      "17 2.288818359375e-05\n",
      "is weird\n",
      "18 1.9073486328125e-05\n",
      "is weird\n",
      "19 2.09808349609375e-05\n",
      "is weird\n",
      "20 2.002716064453125e-05\n",
      "is weird\n",
      "21 2.0503997802734375e-05\n",
      "is weird\n",
      "22 2.0265579223632812e-05\n",
      "is weird\n",
      "23 2.0384788513183594e-05\n",
      "is weird\n",
      "24 2.0325183868408203e-05\n",
      "is weird\n",
      "25 2.03549861907959e-05\n",
      "is weird\n",
      "26 2.034008502960205e-05\n",
      "is weird\n",
      "27 2.0347535610198975e-05\n",
      "is weird\n",
      "28 2.0343810319900513e-05\n",
      "is weird\n",
      "29 2.0345672965049744e-05\n",
      "is weird\n",
      "30 2.0344741642475128e-05\n",
      "is weird\n"
     ]
    }
   ],
   "source": [
    "model1.fit(X[::5], y[::5])"
   ]
  },
  {
   "cell_type": "code",
   "execution_count": null,
   "metadata": {},
   "outputs": [],
   "source": []
  },
  {
   "cell_type": "code",
   "execution_count": null,
   "metadata": {},
   "outputs": [],
   "source": []
  },
  {
   "cell_type": "code",
   "execution_count": null,
   "metadata": {},
   "outputs": [],
   "source": []
  },
  {
   "cell_type": "code",
   "execution_count": null,
   "metadata": {},
   "outputs": [],
   "source": []
  },
  {
   "cell_type": "code",
   "execution_count": 37,
   "metadata": {},
   "outputs": [
    {
     "name": "stdout",
     "output_type": "stream",
     "text": [
      "True\n",
      "False\n"
     ]
    },
    {
     "data": {
      "text/plain": [
       "array([[1.        ],\n",
       "       [0.99999237],\n",
       "       [0.99998451],\n",
       "       [0.9999772 ],\n",
       "       [0.99997024],\n",
       "       [0.99996163],\n",
       "       [0.999953  ],\n",
       "       [0.9999454 ],\n",
       "       [0.99993815],\n",
       "       [0.99992338],\n",
       "       [0.99991695],\n",
       "       [0.99991126],\n",
       "       [0.99990506],\n",
       "       [0.99989844],\n",
       "       [0.99989238],\n",
       "       [0.99988245],\n",
       "       [0.99987597],\n",
       "       [0.99986688],\n",
       "       [0.99986142],\n",
       "       [0.999855  ],\n",
       "       [0.99984871],\n",
       "       [0.9998425 ],\n",
       "       [0.99983623],\n",
       "       [0.99982984],\n",
       "       [0.99982371],\n",
       "       [0.99981739],\n",
       "       [0.99981115],\n",
       "       [0.99980512],\n",
       "       [0.99979942],\n",
       "       [0.99979343],\n",
       "       [0.99978715],\n",
       "       [0.99978017],\n",
       "       [0.99977451],\n",
       "       [0.9997685 ],\n",
       "       [0.99976219],\n",
       "       [0.99975524],\n",
       "       [0.99974924],\n",
       "       [0.999743  ],\n",
       "       [0.99973691],\n",
       "       [0.99973076],\n",
       "       [0.99972517],\n",
       "       [0.99971894],\n",
       "       [0.99967429],\n",
       "       [0.9996034 ],\n",
       "       [0.99954758],\n",
       "       [0.99947838],\n",
       "       [0.99941017],\n",
       "       [0.99934257],\n",
       "       [0.99924967],\n",
       "       [0.99919726],\n",
       "       [0.99913249],\n",
       "       [0.99906861],\n",
       "       [0.99901808],\n",
       "       [0.99895567],\n",
       "       [0.99889422],\n",
       "       [0.99883343],\n",
       "       [0.99878544],\n",
       "       [0.99872619],\n",
       "       [0.99866768],\n",
       "       [0.99860985],\n",
       "       [0.9985422 ],\n",
       "       [0.99847826],\n",
       "       [0.99826083],\n",
       "       [0.9981736 ],\n",
       "       [0.99801649],\n",
       "       [0.99796108],\n",
       "       [0.9978932 ],\n",
       "       [0.99782665],\n",
       "       [0.99777462],\n",
       "       [0.99771067],\n",
       "       [0.99763597],\n",
       "       [0.99757504],\n",
       "       [0.99752729],\n",
       "       [0.99746891],\n",
       "       [0.99741191],\n",
       "       [0.99735613],\n",
       "       [0.99730162],\n",
       "       [0.9972485 ],\n",
       "       [0.99719654],\n",
       "       [0.997156  ],\n",
       "       [0.99710634],\n",
       "       [0.99705798],\n",
       "       [0.99701061],\n",
       "       [0.9969737 ],\n",
       "       [0.99692855],\n",
       "       [0.99688461],\n",
       "       [0.99684183],\n",
       "       [0.9968084 ],\n",
       "       [0.99676759],\n",
       "       [0.99672796],\n",
       "       [0.99668925],\n",
       "       [0.99665176],\n",
       "       [0.99661518],\n",
       "       [0.99657967],\n",
       "       [0.99654522],\n",
       "       [0.99651171],\n",
       "       [0.99648564],\n",
       "       [0.99644761],\n",
       "       [0.99641699],\n",
       "       [0.99638729],\n",
       "       [0.99635857],\n",
       "       [0.99633071],\n",
       "       [0.99630904],\n",
       "       [0.9962827 ],\n",
       "       [0.9962573 ],\n",
       "       [0.9962326 ],\n",
       "       [0.9962135 ],\n",
       "       [0.99618133],\n",
       "       [0.99616355],\n",
       "       [0.99614211],\n",
       "       [0.99612141],\n",
       "       [0.9961014 ],\n",
       "       [0.99607838],\n",
       "       [0.99606358],\n",
       "       [0.99604567],\n",
       "       [0.99602845],\n",
       "       [0.99601187],\n",
       "       [0.99599596],\n",
       "       [0.99598065],\n",
       "       [0.99596588],\n",
       "       [0.99595176],\n",
       "       [0.99593817],\n",
       "       [0.99592517],\n",
       "       [0.99591265],\n",
       "       [0.99590302],\n",
       "       [0.99589147],\n",
       "       [0.99588037],\n",
       "       [0.99586976],\n",
       "       [0.9958596 ],\n",
       "       [0.99584984],\n",
       "       [0.99584053],\n",
       "       [0.99583339],\n",
       "       [0.99582479],\n",
       "       [0.99581656],\n",
       "       [0.99580869],\n",
       "       [0.99580265],\n",
       "       [0.99579539],\n",
       "       [0.99578843],\n",
       "       [0.99578177],\n",
       "       [0.99577538],\n",
       "       [0.99577046],\n",
       "       [0.99576454],\n",
       "       [0.99575885],\n",
       "       [0.99575337],\n",
       "       [0.99574808],\n",
       "       [0.99574296],\n",
       "       [0.99573803],\n",
       "       [0.99573324],\n",
       "       [0.9957295 ],\n",
       "       [0.99572493],\n",
       "       [0.99572046],\n",
       "       [0.99571609],\n",
       "       [0.99571177],\n",
       "       [0.99570667],\n",
       "       [0.99570244],\n",
       "       [0.99569907],\n",
       "       [0.99569486],\n",
       "       [0.99569065],\n",
       "       [0.99568553],\n",
       "       [0.99568123],\n",
       "       [0.99567683],\n",
       "       [0.99567327],\n",
       "       [0.99566781],\n",
       "       [0.99566311],\n",
       "       [0.9956583 ],\n",
       "       [0.99565333],\n",
       "       [0.99564819],\n",
       "       [0.99564286],\n",
       "       [0.99563733],\n",
       "       [0.99563276],\n",
       "       [0.99562683],\n",
       "       [0.99562067],\n",
       "       [0.99561423],\n",
       "       [0.9956075 ],\n",
       "       [0.99560048],\n",
       "       [0.99559316],\n",
       "       [0.99558706],\n",
       "       [0.99557912],\n",
       "       [0.9955708 ],\n",
       "       [0.99556213],\n",
       "       [0.99555306],\n",
       "       [0.99554359],\n",
       "       [0.9955337 ],\n",
       "       [0.99552334],\n",
       "       [0.99551473],\n",
       "       [0.99550124],\n",
       "       [0.99548949],\n",
       "       [0.99547719],\n",
       "       [0.99546439],\n",
       "       [0.99545101],\n",
       "       [0.99543711],\n",
       "       [0.99542261],\n",
       "       [0.99541056],\n",
       "       [0.99539501],\n",
       "       [0.99537882],\n",
       "       [0.99536199],\n",
       "       [0.99534449],\n",
       "       [0.99532636],\n",
       "       [0.99530747],\n",
       "       [0.99529189],\n",
       "       [0.99527175],\n",
       "       [0.99525093],\n",
       "       [0.99522926],\n",
       "       [0.99520685],\n",
       "       [0.99518373],\n",
       "       [0.99515972],\n",
       "       [0.9951349 ],\n",
       "       [0.99510411],\n",
       "       [0.99508284],\n",
       "       [0.99505547],\n",
       "       [0.9950272 ],\n",
       "       [0.99499814],\n",
       "       [0.9949619 ],\n",
       "       [0.99493078],\n",
       "       [0.99489864],\n",
       "       [0.9948722 ]])"
      ]
     },
     "execution_count": 37,
     "metadata": {},
     "output_type": "execute_result"
    }
   ],
   "source": [
    "model.test(X, y, 1e-1)"
   ]
  },
  {
   "cell_type": "code",
   "execution_count": 48,
   "metadata": {},
   "outputs": [
    {
     "name": "stdout",
     "output_type": "stream",
     "text": [
      "True\n",
      "False\n"
     ]
    },
    {
     "data": {
      "text/plain": [
       "[<matplotlib.lines.Line2D at 0x1a1e28acc0>,\n",
       " <matplotlib.lines.Line2D at 0x1a1e28ae10>]"
      ]
     },
     "execution_count": 48,
     "metadata": {},
     "output_type": "execute_result"
    },
    {
     "data": {
      "image/png": "[encoded data removed]",
      "text/plain": [
       "<Figure size 1152x576 with 1 Axes>"
      ]
     },
     "metadata": {
      "needs_background": "light"
     },
     "output_type": "display_data"
    }
   ],
   "source": [
    "plt.figure(5, figsize=(16, 8))\n",
    "plt.plot(X.ravel(), model.test(X, y, 1e-1), X.ravel(), y)"
   ]
  },
  {
   "cell_type": "code",
   "execution_count": 23,
   "metadata": {},
   "outputs": [],
   "source": [
    "cost_param = [10**i for i in range(-2,0)]\n",
    "epsilon_param = [10**i for i in range(-2, 0)]\n",
    "\n",
    "param_grid = [{\n",
    "            'C' : cost_param,\n",
    "            'epsilon' : epsilon_param,\n",
    "              },]\n",
    "\n",
    "grid = GridSearchCV(SplineWithInitialOne(k=3),\n",
    "                    cv=ThinningFolds(t=0.02),\n",
    "                    n_jobs=-1,\n",
    "                    scoring= make_scorer(mean_squared_error),\n",
    "                    param_grid=param_grid)"
   ]
  },
  {
   "cell_type": "code",
   "execution_count": null,
   "metadata": {},
   "outputs": [],
   "source": [
    "start_time = time.time()\n",
    "grid.fit(X.ravel(), y)\n",
    "print(\"--- %s seconds ---\" % (time.time() - start_time))"
   ]
  }
 ],
 "metadata": {
  "kernelspec": {
   "display_name": "Python 3",
   "language": "python",
   "name": "python3"
  },
  "language_info": {
   "codemirror_mode": {
    "name": "ipython",
    "version": 3
   },
   "file_extension": ".py",
   "mimetype": "text/x-python",
   "name": "python",
   "nbconvert_exporter": "python",
   "pygments_lexer": "ipython3",
   "version": "3.7.3"
  }
 },
 "nbformat": 4,
 "nbformat_minor": 2
}
